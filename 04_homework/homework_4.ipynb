{
 "cells": [
  {
   "attachments": {},
   "cell_type": "markdown",
   "id": "c996be64-7528-4de5-9122-42153aa87bae",
   "metadata": {},
   "source": [
    "## Homework 4\n",
    "From Chapter 5, found on pages 225-226 of ISLP\n",
    "\n",
    "*In Chapter 4, we used logistic regression to predict the probability of default using income and balance on the `Default` data set. We will now estimate the test error of this logistic regression model using the validation set approach. Do not forget to set a random seed before beginning your analysis.*"
   ]
  },
  {
   "cell_type": "code",
   "execution_count": 1,
   "id": "6d9c640b-16c4-4022-91c3-d5fa56c2d238",
   "metadata": {},
   "outputs": [
    {
     "data": {
      "text/html": [
       "<div>\n",
       "<style scoped>\n",
       "    .dataframe tbody tr th:only-of-type {\n",
       "        vertical-align: middle;\n",
       "    }\n",
       "\n",
       "    .dataframe tbody tr th {\n",
       "        vertical-align: top;\n",
       "    }\n",
       "\n",
       "    .dataframe thead th {\n",
       "        text-align: right;\n",
       "    }\n",
       "</style>\n",
       "<table border=\"1\" class=\"dataframe\">\n",
       "  <thead>\n",
       "    <tr style=\"text-align: right;\">\n",
       "      <th></th>\n",
       "      <th>default</th>\n",
       "      <th>student</th>\n",
       "      <th>balance</th>\n",
       "      <th>income</th>\n",
       "    </tr>\n",
       "  </thead>\n",
       "  <tbody>\n",
       "    <tr>\n",
       "      <th>0</th>\n",
       "      <td>No</td>\n",
       "      <td>No</td>\n",
       "      <td>729.526495</td>\n",
       "      <td>44361.625074</td>\n",
       "    </tr>\n",
       "    <tr>\n",
       "      <th>1</th>\n",
       "      <td>No</td>\n",
       "      <td>Yes</td>\n",
       "      <td>817.180407</td>\n",
       "      <td>12106.134700</td>\n",
       "    </tr>\n",
       "    <tr>\n",
       "      <th>2</th>\n",
       "      <td>No</td>\n",
       "      <td>No</td>\n",
       "      <td>1073.549164</td>\n",
       "      <td>31767.138947</td>\n",
       "    </tr>\n",
       "    <tr>\n",
       "      <th>3</th>\n",
       "      <td>No</td>\n",
       "      <td>No</td>\n",
       "      <td>529.250605</td>\n",
       "      <td>35704.493935</td>\n",
       "    </tr>\n",
       "    <tr>\n",
       "      <th>4</th>\n",
       "      <td>No</td>\n",
       "      <td>No</td>\n",
       "      <td>785.655883</td>\n",
       "      <td>38463.495879</td>\n",
       "    </tr>\n",
       "    <tr>\n",
       "      <th>...</th>\n",
       "      <td>...</td>\n",
       "      <td>...</td>\n",
       "      <td>...</td>\n",
       "      <td>...</td>\n",
       "    </tr>\n",
       "    <tr>\n",
       "      <th>9995</th>\n",
       "      <td>No</td>\n",
       "      <td>No</td>\n",
       "      <td>711.555020</td>\n",
       "      <td>52992.378914</td>\n",
       "    </tr>\n",
       "    <tr>\n",
       "      <th>9996</th>\n",
       "      <td>No</td>\n",
       "      <td>No</td>\n",
       "      <td>757.962918</td>\n",
       "      <td>19660.721768</td>\n",
       "    </tr>\n",
       "    <tr>\n",
       "      <th>9997</th>\n",
       "      <td>No</td>\n",
       "      <td>No</td>\n",
       "      <td>845.411989</td>\n",
       "      <td>58636.156984</td>\n",
       "    </tr>\n",
       "    <tr>\n",
       "      <th>9998</th>\n",
       "      <td>No</td>\n",
       "      <td>No</td>\n",
       "      <td>1569.009053</td>\n",
       "      <td>36669.112365</td>\n",
       "    </tr>\n",
       "    <tr>\n",
       "      <th>9999</th>\n",
       "      <td>No</td>\n",
       "      <td>Yes</td>\n",
       "      <td>200.922183</td>\n",
       "      <td>16862.952321</td>\n",
       "    </tr>\n",
       "  </tbody>\n",
       "</table>\n",
       "<p>10000 rows × 4 columns</p>\n",
       "</div>"
      ],
      "text/plain": [
       "     default student      balance        income\n",
       "0         No      No   729.526495  44361.625074\n",
       "1         No     Yes   817.180407  12106.134700\n",
       "2         No      No  1073.549164  31767.138947\n",
       "3         No      No   529.250605  35704.493935\n",
       "4         No      No   785.655883  38463.495879\n",
       "...      ...     ...          ...           ...\n",
       "9995      No      No   711.555020  52992.378914\n",
       "9996      No      No   757.962918  19660.721768\n",
       "9997      No      No   845.411989  58636.156984\n",
       "9998      No      No  1569.009053  36669.112365\n",
       "9999      No     Yes   200.922183  16862.952321\n",
       "\n",
       "[10000 rows x 4 columns]"
      ]
     },
     "execution_count": 1,
     "metadata": {},
     "output_type": "execute_result"
    }
   ],
   "source": [
    "# Import standard libraries\n",
    "import numpy as np\n",
    "import pandas as pd\n",
    "import seaborn as sns\n",
    "import matplotlib.pyplot as plt\n",
    "from matplotlib.pyplot import subplots\n",
    "import statsmodels.api as sm\n",
    "import random\n",
    "import warnings\n",
    "warnings.filterwarnings('ignore') # mute warning messages\n",
    "# Import specific objects\n",
    "from ISLP import load_data\n",
    "from ISLP import confusion_table\n",
    "from ISLP.models import contrast\n",
    "from ISLP.models import (ModelSpec as MS,\n",
    "                         summarize)\n",
    "from sklearn.discriminant_analysis import \\\n",
    "     (LinearDiscriminantAnalysis as LDA,\n",
    "      QuadraticDiscriminantAnalysis as QDA)\n",
    "from sklearn.naive_bayes import GaussianNB\n",
    "from sklearn.neighbors import KNeighborsClassifier\n",
    "from sklearn.preprocessing import StandardScaler\n",
    "from sklearn.linear_model import LogisticRegression\n",
    "from sklearn.model_selection import train_test_split\n",
    "from sklearn.linear_model import LogisticRegression\n",
    "from sklearn.metrics import accuracy_score, confusion_matrix\n",
    "from sklearn.preprocessing import OneHotEncoder\n",
    "from sklearn.compose import ColumnTransformer\n",
    "from sklearn.pipeline import Pipeline\n",
    "from sklearn.metrics import accuracy_score\n",
    "\n",
    "# Load Default data\n",
    "Default = load_data('Default')\n",
    "Default"
   ]
  },
  {
   "attachments": {},
   "cell_type": "markdown",
   "id": "d4984ae5-070c-4e15-b54d-8a4371675a13",
   "metadata": {},
   "source": [
    "(a) Fit a logistic regression model that uses income and balance to predict default."
   ]
  },
  {
   "cell_type": "code",
   "execution_count": 3,
   "id": "6c7a50f6-9929-467f-a0b6-a182c24e6d9a",
   "metadata": {},
   "outputs": [
    {
     "name": "stdout",
     "output_type": "stream",
     "text": [
      "Accuracy: 0.9695\n"
     ]
    }
   ],
   "source": [
    "#Add your code here\n",
    "# Extract features and target\n",
    "X = Default[['income', 'balance']]\n",
    "y = Default['default']\n",
    "# Split the data into training and testing sets\n",
    "X_train, X_test, y_train, y_test = train_test_split(X, y, test_size=0.2, random_state=42)\n",
    "# Initialize and fit the logistic regression model\n",
    "model = LogisticRegression()\n",
    "model.fit(X_train, y_train)\n",
    "# Predict on the testing set\n",
    "y_pred = model.predict(X_test)\n",
    "\n",
    "# Calculate accuracy\n",
    "accuracy = accuracy_score(y_test, y_pred)\n",
    "print(\"Accuracy:\", accuracy)"
   ]
  },
  {
   "cell_type": "markdown",
   "id": "9a66e054-7216-4c84-8fd0-92f071df208b",
   "metadata": {},
   "source": [
    "Using the validation set approach, estimate the test error of this model. In order to do this, you must perform the following steps:\n",
    "\n",
    "(i) Split the sample set into a training set and a validation set.\n",
    "\n",
    "(ii)  Fit a multiple logistic regression model using only the training observations.\n",
    "\n",
    "(iii)  Obtain a prediction of default status for each individual in the validation set by computing the posterior probability of default for that individual, and classifying the individual to the default category if the posterior probability is greater than 0.5.\n",
    "\n",
    "(vi)  Compute the validation set error, which is the fraction of the observations in the validation set that are misclassified."
   ]
  },
  {
   "cell_type": "code",
   "execution_count": 5,
   "id": "a074d995-6701-49b5-8ad3-7e9a624315bc",
   "metadata": {},
   "outputs": [
    {
     "name": "stdout",
     "output_type": "stream",
     "text": [
      "Validation Set Error: 0.03049999999999997\n"
     ]
    }
   ],
   "source": [
    "#Add your code here\n",
    "# 1 Split the data into training and validation sets\n",
    "X_train, X_val, y_train, y_val = train_test_split(X, y, test_size=0.2, random_state=42)\n",
    "\n",
    "# 2 Initialize and fit the logistic regression model using training data\n",
    "model = LogisticRegression()\n",
    "model.fit(X_train, y_train)\n",
    "\n",
    "# 3 Obtain predicted probabilities for default for validation set\n",
    "y_pred_proba = model.predict_proba(X_val)\n",
    "\n",
    "# Classify individuals to default category based on posterior probability > 0.5\n",
    "y_pred = (y_pred_proba[:, 1] > 0.5).astype(int)\n",
    "\n",
    "# Map 'No' to 0 and 'Yes' to 1\n",
    "y_val_binary = y_val.map({'No': 0, 'Yes': 1})\n",
    "\n",
    "# 4 Compute validation set error (misclassification rate)\n",
    "validation_error = 1 - accuracy_score(y_val_binary, y_pred)\n",
    "print(\"Validation Set Error:\", validation_error)\n"
   ]
  },
  {
   "cell_type": "markdown",
   "id": "d53bb8fc-402b-4e58-8819-1d9256da152a",
   "metadata": {},
   "source": [
    "(c)  Repeat the process in (b) three times, using three different splits of the observations into a training set and a validation set. Comment on the results obtained."
   ]
  },
  {
   "cell_type": "code",
   "execution_count": 11,
   "id": "19e883b7-f332-41c6-b61d-2655a695f327",
   "metadata": {},
   "outputs": [
    {
     "name": "stdout",
     "output_type": "stream",
     "text": [
      "0.0249\n"
     ]
    },
    {
     "data": {
      "image/png": "[encoded data removed]",
      "text/plain": [
       "<Figure size 640x480 with 1 Axes>"
      ]
     },
     "metadata": {},
     "output_type": "display_data"
    }
   ],
   "source": [
    "#Add your code here\n",
    "# Initialize an empty list to store validation errors\n",
    "validation_errors = []\n",
    "iterations = 10\n",
    "# Repeat the process three times\n",
    "for i in range(iterations):\n",
    "    # Split the data into training and validation sets\n",
    "    X_train, X_val, y_train, y_val = train_test_split(X, y, test_size=0.2, random_state=i)\n",
    "    \n",
    "    # Fit a logistic regression model using training data\n",
    "    model = LogisticRegression()\n",
    "    model.fit(X_train, y_train)\n",
    "    \n",
    "    # Obtain predicted probabilities for default for validation set\n",
    "    y_pred_proba = model.predict_proba(X_val)\n",
    "    \n",
    "    # Classify individuals to default category based on posterior probability > 0.5\n",
    "    y_pred = (y_pred_proba[:, 1] > 0.5).astype(int)\n",
    "    \n",
    "    # Map 'No' to 0 and 'Yes' to 1 in y_val\n",
    "    y_val_binary = y_val.map({'No': 0, 'Yes': 1})\n",
    "    \n",
    "    # Compute validation set error (misclassification rate)\n",
    "    validation_error = 1 - accuracy_score(y_val_binary, y_pred)\n",
    "    validation_errors.append(validation_error)\n",
    "    \n",
    "# Print validation errors\n",
    "# for i, error in enumerate(validation_errors):\n",
    "#     print(f\"Validation Set Error {i+1}: {error}\")\n",
    "print(np.mean(validation_errors))\n",
    "# Plot validation errors\n",
    "plt.scatter(range(1, iterations+1), validation_errors, color='skyblue')\n",
    "plt.xlabel('Iteration')\n",
    "plt.ylabel('Validation Set Error')\n",
    "plt.title(f'Validation Set Errors for {iterations} Iterations')\n",
    "plt.xticks(range(1, iterations+ 1))\n",
    "plt.ylim(0, max(validation_errors) + 0.01)  # Adjust y-axis limits for better visualization\n",
    "plt.show()"
   ]
  },
  {
   "cell_type": "markdown",
   "id": "054c300b-65d1-4409-bb28-bc4fbcca7cb4",
   "metadata": {},
   "source": [
    "(d) Now consider a logistic regression model that predicts the probability of default using income, balance, and a dummy variable for student. Estimate the test error for this model using the validation set approach. Comment on whether or not including a dummy variable for student leads to a reduction in the test error rate.\n",
    "(Help : if your model does not converge, consider increasing the 'max_iter' inside of your model)"
   ]
  },
  {
   "cell_type": "code",
   "execution_count": 15,
   "id": "ecb329eb-838a-4bd9-a97a-5402a03c7c46",
   "metadata": {},
   "outputs": [
    {
     "name": "stdout",
     "output_type": "stream",
     "text": [
      "0.024999999999999988\n"
     ]
    },
    {
     "data": {
      "image/png": "[encoded data removed]",
      "text/plain": [
       "<Figure size 640x480 with 1 Axes>"
      ]
     },
     "metadata": {},
     "output_type": "display_data"
    }
   ],
   "source": [
    "#Add your code here\n",
    "from sklearn.preprocessing import LabelEncoder\n",
    "# Label encode the 'student' variable\n",
    "label_encoder = LabelEncoder()\n",
    "Default['student_encoded'] = label_encoder.fit_transform(Default['student'])\n",
    "\n",
    "# Update the features and target variables\n",
    "X_with_student = Default[['income', 'balance', 'student_encoded']]\n",
    "y = Default['default']\n",
    "\n",
    "# Initialize an empty list to store validation errors\n",
    "validation_errors = []\n",
    "iterations =10\n",
    "# Repeat the process three times\n",
    "for i in range(iterations):\n",
    "    # Split the data into training and validation sets\n",
    "    X_train, X_val, y_train, y_val = train_test_split(X_with_student, y, test_size=0.2, random_state=i)\n",
    "    \n",
    "    # Fit a logistic regression model using training data\n",
    "    model = LogisticRegression(max_iter=1000)  # Increase max_iter if the model does not converge\n",
    "    model.fit(X_train, y_train)\n",
    "    \n",
    "    # Obtain predicted probabilities for default for validation set\n",
    "    y_pred_proba = model.predict_proba(X_val)\n",
    "    \n",
    "    # Classify individuals to default category based on posterior probability > 0.5\n",
    "    y_pred = (y_pred_proba[:, 1] > 0.5).astype(int)\n",
    "    \n",
    "    # Map 'No' to 0 and 'Yes' to 1 in y_val\n",
    "    y_val_binary = y_val.map({'No': 0, 'Yes': 1})\n",
    "    \n",
    "    # Compute validation set error (misclassification rate)\n",
    "    validation_error = 1 - accuracy_score(y_val_binary, y_pred)\n",
    "    validation_errors.append(validation_error)\n",
    "\n",
    "# # Print validation errors\n",
    "# for i, error in enumerate(validation_errors):\n",
    "#     print(f\"Validation Set Error {i+1}: {error}\")\n",
    "print(np.mean(validation_errors))\n",
    "# Plot validation errors\n",
    "plt.bar(range(1, iterations + 1), validation_errors, color='skyblue')\n",
    "plt.xlabel('Iteration')\n",
    "plt.ylabel('Validation Set Error')\n",
    "plt.title(f'Validation Set Errors for {iterations} Iterations (with \"student\" variable)')\n",
    "plt.xticks(range(1, iterations + 1))\n",
    "plt.ylim(0, max(validation_errors) + 0.01)  # Adjust y-axis limits for better visualization\n",
    "plt.show()"
   ]
  },
  {
   "cell_type": "markdown",
   "id": "5b7004e7",
   "metadata": {},
   "source": [
    "- The test error rates for the logistic regression model with and without the dummy variable for 'student' are similar, it suggests that including the 'student' variable does not lead to a reduction in the test error rate.\n",
    "\n",
    "- This result implies that the additional information provided by the 'student' variable does not significantly improve the model's ability to predict default status compared to using only 'income' and 'balance' as features.\n",
    "\n",
    "- It's essential to interpret this result in the context of the specific dataset and problem domain. It's possible that the 'student' variable may not be strongly correlated with default status or may not capture additional information beyond what is already provided by 'income' and 'balance'.\n",
    "\n",
    "- Further analysis, such as feature importance ranking or exploring interactions between features, may provide insights into why including the 'student' variable does not lead to improved model performance. Additionally, experimenting with different feature engineering techniques or alternative model algorithms could be explored to potentially improve predictive performance."
   ]
  },
  {
   "cell_type": "markdown",
   "id": "5df53a6c",
   "metadata": {},
   "source": [
    "## Additional Practice Questions: \n",
    "- Explain the concept of a random seed to a non-technical audience. \n",
    "- How would you describe this exercise in an interview to both a technical and non-technical interviewer?\n",
    "- Can you think of a business context where this exercise would have applications?"
   ]
  },
  {
   "cell_type": "markdown",
   "id": "cadfb090",
   "metadata": {},
   "source": [
    "1. Random Seed Explanation to a Non-Technical Audience:\n",
    "\n",
    "- Imagine you have a magical garden where you want to grow some unique flowers. Now, to make sure that every time you visit your garden, you see the same arrangement of flowers, you decide to use a special tool called a \"magic wand.\" This magic wand helps you create the arrangement by giving it a secret number, which we call a \"random seed.\" Now, no matter how many times you use the wand with the same seed number, you'll always get the exact same arrangement of flowers. But if you change the seed number, you'll get a completely different arrangement, almost like a brand new garden!\n",
    "\n",
    "2. Describing the Exercise in an Interview:\n",
    "\n",
    "- Technical Interviewer: We're going to explore the process of estimating the test error for a machine learning model using **the validation set approach**. We'll **split** our dataset into two parts: a training set to train the model and a validation set to evaluate its performance. Then, we'll repeat this process **multiple times** to get a robust estimate of how well our model generalizes to unseen data.\n",
    "- Non-Technical Interviewer: We'll be using a method to assess how well our predictive model works with new data. Think of it like studying for a test—you'll review some questions and then test yourself to see how well you remember the answers. We'll do this a few times to make sure our study methods are consistent and give us a good idea of how well we've learned the material.\n",
    "\n",
    "3. Business Context for the Exercise:\n",
    "\n",
    "- This exercise is highly relevant in various business contexts where predictive modeling is used. For example:\n",
    "\n",
    "- Financial Services: Banks and lending institutions can use this approach to assess the risk of default on loans by analyzing customers' financial attributes.\n",
    "- E-commerce: Online retailers can estimate the likelihood of customer churn (i.e., customers stopping their subscriptions or leaving the platform) based on their behavior and purchase history.\n",
    "- Healthcare: Hospitals can predict readmission rates for patients based on their medical history and treatment outcomes to optimize resource allocation and improve patient care."
   ]
  },
  {
   "cell_type": "markdown",
   "id": "72ff23c6",
   "metadata": {},
   "source": []
  }
 ],
 "metadata": {
  "kernelspec": {
   "display_name": "Python 3 (ipykernel)",
   "language": "python",
   "name": "python3"
  },
  "language_info": {
   "codemirror_mode": {
    "name": "ipython",
    "version": 3
   },
   "file_extension": ".py",
   "mimetype": "text/x-python",
   "name": "python",
   "nbconvert_exporter": "python",
   "pygments_lexer": "ipython3",
   "version": "3.9.19"
  }
 },
 "nbformat": 4,
 "nbformat_minor": 5
}
